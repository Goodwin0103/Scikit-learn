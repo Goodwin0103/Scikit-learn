{
 "cells": [
  {
   "cell_type": "code",
   "execution_count": null,
   "id": "1be54cca",
   "metadata": {},
   "outputs": [],
   "source": [
    "import numpy as np\n",
    "from sklearn.linear_model import LinearRegression\n",
    "\n",
    "p_o = pd.DataFrame([206, 213, 200, 202])\n",
    "p_w = pd.DataFrame([146, 144, 142, 143])\n",
    "\n",
    "#instanziieren\n",
    "mdl = LinearRegression(fit_intercept = True)\n",
    "#Modell traning\n",
    "mdl.fit(p_o, p_w)\n",
    "#Vorhersage\n",
    "p_w_2018 = mdl.intercept_ + mdl.coef_ * 220\n",
    "p_w_2018 = mdl.predict(np.array(220).reshape(-1, 1))\n",
    "\n",
    "print((np.asscalar(p_w_2018)))"
   ]
  }
 ],
 "metadata": {
  "kernelspec": {
   "display_name": "Python 3 (ipykernel)",
   "language": "python",
   "name": "python3"
  },
  "language_info": {
   "codemirror_mode": {
    "name": "ipython",
    "version": 3
   },
   "file_extension": ".py",
   "mimetype": "text/x-python",
   "name": "python",
   "nbconvert_exporter": "python",
   "pygments_lexer": "ipython3",
   "version": "3.10.4"
  }
 },
 "nbformat": 4,
 "nbformat_minor": 5
}
