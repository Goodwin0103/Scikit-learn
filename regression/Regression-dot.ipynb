{
 "cells": [
  {
   "cell_type": "code",
   "execution_count": 2,
   "id": "df9f39a8",
   "metadata": {},
   "outputs": [
    {
     "name": "stdout",
     "output_type": "stream",
     "text": [
      "   0    1      2\n",
      "0  1  206  42436\n",
      "1  1  213  45369\n",
      "2  1  200  40000\n",
      "3  1  202  40000\n",
      "[[ 1.63253529e+01 -1.48572471e+01  5.19358468e+01 -5.24039526e+01]\n",
      " [-1.52895311e-01  6.93710146e-02 -4.24250042e-01  5.07774338e-01]\n",
      " [ 3.64861827e-04  2.07108567e-05  8.43633366e-04 -1.22920605e-03]]\n",
      "146.01717965565697\n"
     ]
    }
   ],
   "source": [
    "import pandas as pd\n",
    "import numpy as np\n",
    "# Produkt\n",
    "p_o = pd.DataFrame([206, 213, 200, 202])\n",
    "p_w = pd.DataFrame([146, 144, 142, 143])\n",
    "\n",
    "phi = pd.DataFrame([[1, 206, 206**2], [1, 213, 213**2], [1, 200, 200**2], [1, 202, 200**2]])\n",
    "print(phi)   \n",
    "#Pseudoinverse \n",
    "phiPlus = np.linalg.pinv(phi)\n",
    "print(phiPlus)\n",
    "#Gewichte \n",
    "w = np.dot(phiPlus, p_w)\n",
    "#Vorhersage\n",
    "p_w_2018 =w[0] + w[1] * 220 + w[2] * 220 * 220\n",
    "print(format(*p_w_2018))\n",
    "\n"
   ]
  },
  {
   "cell_type": "code",
   "execution_count": 3,
   "id": "13c845fd",
   "metadata": {},
   "outputs": [
    {
     "name": "stdout",
     "output_type": "stream",
     "text": [
      "146.02784810126582\n"
     ]
    },
    {
     "name": "stderr",
     "output_type": "stream",
     "text": [
      "C:\\Users\\Shiyue\\AppData\\Local\\Temp\\ipykernel_16016\\1287348527.py:11: DeprecationWarning: np.asscalar(a) is deprecated since NumPy v1.16, use a.item() instead\n",
      "  print((np.asscalar(p_w_2018)))\n"
     ]
    }
   ],
   "source": [
    "from sklearn.linear_model import LinearRegression\n",
    "\n",
    "#instanziieren\n",
    "mdl = LinearRegression(fit_intercept = True)\n",
    "#Modell traning\n",
    "mdl.fit(p_o, p_w)\n",
    "#Vorhersage\n",
    "p_w_2018 = mdl.intercept_ + mdl.coef_ * 220\n",
    "p_w_2018 = mdl.predict(np.array(220).reshape(-1, 1))\n",
    "\n",
    "print((np.asscalar(p_w_2018)))"
   ]
  }
 ],
 "metadata": {
  "kernelspec": {
   "display_name": "Python 3 (ipykernel)",
   "language": "python",
   "name": "python3"
  },
  "language_info": {
   "codemirror_mode": {
    "name": "ipython",
    "version": 3
   },
   "file_extension": ".py",
   "mimetype": "text/x-python",
   "name": "python",
   "nbconvert_exporter": "python",
   "pygments_lexer": "ipython3",
   "version": "3.10.4"
  }
 },
 "nbformat": 4,
 "nbformat_minor": 5
}
