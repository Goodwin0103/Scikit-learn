{
 "cells": [
  {
   "cell_type": "markdown",
   "metadata": {
    "editable": false
   },
   "source": [
    "<img src=\"Images/IMG-Titanic-Banner.gif\">"
   ]
  },
  {
   "cell_type": "markdown",
   "metadata": {
    "editable": false
   },
   "source": [
    "Mittwoch, 10. April 1912, Southhampton in England. Ein großer Tag für die <a href=\"https://de.wikipedia.org/wiki/White_Star_Line\">White Star Line</a>, denn heute tritt ihr prestigeträchtigstes Schiff ihre Jungfernfahrt an. An Bord freuen sich über 1300 Fahrgäste auf eine luxuriöse Fahrt nach New York City. Mehr als 900 Besatzungsmitglieder stehen bereit, auf dem kolossalen Dampfer auf der Atlantiküberquerung zu Diensten zu stehen. Der Name des Schiffs: <a href=\"https://de.wikipedia.org/wiki/RMS_Titanic\">RMS Titanic</a>.\n",
    "\n",
    "In vorangegangenen Notebooks haben wir Methoden zur Datenvorverarbeitung und zur Klassifikation kennengelernt. Jetzt ist es an der Zeit, diese an einem Datensatz mal (fast) ganz ohne Anleitung auszuprobieren!\n",
    "Die Aufgabe besteht darin, anhand der (authentischen) Daten von über 800 Passagieren das Überleben eines Passagiers vorherzusagen.\n",
    "\n",
    "Halten Sie sich am besten (zumindest grob) an die vorgegebene Struktur dieses Notebooks, um ein optimales Ergebnis zu erreichen. \n",
    "Ihre endgültigen Vorhersagen können Sie als CSV-Datei an <a href=\"mailto:simon.stone@tu-dresden.de?Subject=Vorhersagen%20zu%20Jupyter%20Notebook%20Titanic\" target=\"_top\">Simon Stone</a> schicken und so an einem internen Ranking teilnehmen, das wir am Ende der Vorlesungszeit im Kurs bekanntmachen werden.\n",
    "\n",
    "**Wichtig:** Wenn Sie dieses Notebook als Teilleistung des Praktikums AIS bearbeiten, dann schicken Sie es bitte gemeinsam mit dem Notebook zur Regression in einem ZIP-Archiv an Ihren Betreuer (siehe Folien zur Einführung ins Praktikum).\n",
    "\n",
    "<img style=\"float: right; margin:5px 0px 0px 10px\" src=\"Images/IMG-White-Star-Line.jpg\" alt=\"White-Star-Line-Poster\" width=\"256\">\n",
    "\n",
    "## Inhalt\n",
    "<table style=\"width:256; border: 1px solid black; display: inline-block\">\n",
    "  <tr>\n",
    "    <td  style=\"text-align:right\" width=64px><img src=\"Images/IMG-csv-in.png\" style=\"float:left\"></td>\n",
    "      <td style=\"text-align:left\" width=128px>\n",
    "          <a style=\"color:black; font-size:14px; font-weight:bold; text-decoration:none\" href='#import_data'>Daten importieren</a>\n",
    "      </td>\n",
    "  </tr>\n",
    "  <tr>\n",
    "    <td style=\"text-align:right\"><img src=\"Images/IMG-magnifying-glass.png\" style=\"float:left\"></td>\n",
    "    <td style=\"text-align:left\" width=128px><a style=\"color:black; font-size:14px; font-weight:bold; text-decoration:none\" href='#analyze_data'>Daten analysieren</a>\n",
    "      </td>\n",
    "  </tr>\n",
    "    <tr>\n",
    "    <td style=\"text-align:right\"><img src=\"Images/IMG-broom.png\" style=\"float:left\"></td>\n",
    "    <td style=\"text-align:left\" width=128px><a style=\"color:black; font-size:14px; font-weight:bold; text-decoration:none\" href='#clean_data'>Daten säubern</a>\n",
    "        </td>\n",
    "    </tr>\n",
    "    <tr>\n",
    "    <td style=\"text-align:right\"><img src=\"Images/IMG-gears.png\" style=\"float:left\"></td>\n",
    "    <td style=\"text-align:left\" width=128px><a style=\"color:black; font-size:14px; font-weight:bold; text-decoration:none\" href='#build_model'>Modellauswahl</a>\n",
    "        </td>\n",
    "  </tr>\n",
    "        <tr>\n",
    "    <td style=\"text-align:right\"><img src=\"Images/IMG-alert.png\" style=\"float:left\"></td>\n",
    "    <td style=\"text-align:left\" width=128px><a style=\"color:black; font-size:14px; font-weight:bold; text-decoration:none\" href='#make_predictions'>Vorhersagen treffen</a>\n",
    "        </td>\n",
    "  </tr>\n",
    "        <tr>\n",
    "    <td style=\"text-align:right\"><img src=\"Images/IMG-csv-out.png\" style=\"float:left\"></td>\n",
    "    <td style=\"text-align:left\" width=128px><a style=\"color:black; font-size:14px; font-weight:bold; text-decoration:none\" href='#save_predictions'>Vorhersagen speichern</a>\n",
    "        </td>\n",
    "  </tr>\n",
    "</table>\n",
    "\n"
   ]
  },
  {
   "cell_type": "markdown",
   "metadata": {
    "editable": false
   },
   "source": [
    "<a id='import_data'></a><div><img src=\"Images/IMG-csv-in.png\" style=\"float:left\"> <h2 style=\"position: relative; top: 6px; left:10px\">1. Daten importieren</h2>\n",
    "<p style=\"position: relative; top: 10px\">\n",
    "Lesen Sie die Passagierdaten für das Training des Klassifikators aus der Datei \"titanic.csv\" im Ordner \"Data\" ein. Die Spaltennamen haben die folgenden Bedeutungen:\n",
    "</p>\n",
    "<table style=\"width:256; border: 1px solid black; display: inline-block\">\n",
    "    <tr>\n",
    "        <td style=\"text-align:left\"><p style=\"color:black; font-size:14px; font-weight:bold\">Survived:</p>\n",
    "        </td>\n",
    "        <td style=\"text-align:left\"><p style=\"color:black; font-size:14px\">Zu vorhersagende Größe. 1: Passagier hat überlebt. 0: Passagier hat nicht überlebt.</p>\n",
    "        </td>\n",
    "    </tr>\n",
    "    <tr>\n",
    "        <td style=\"text-align:left\"><p style=\"color:black; font-size:14px; font-weight:bold\">Pclass:</p>\n",
    "        </td>\n",
    "        <td style=\"text-align:left\"><p style=\"color:black; font-size:14px\">Reiseklasse</p>\n",
    "        </td>\n",
    "    </tr>\n",
    "    <tr>\n",
    "        <td style=\"text-align:left\"><p style=\"color:black; font-size:14px; font-weight:bold\">Name:</p>\n",
    "        </td>\n",
    "        <td style=\"text-align:left\"><p style=\"color:black; font-size:14px\">Titel und Name. Bei Ehefrauen steht zuerste der Name des Ehemannes, dann der eigene Name in Klammern. 🙄</p>\n",
    "        </td>\n",
    "    </tr>\n",
    "    <tr>\n",
    "        <td style=\"text-align:left\"><p style=\"color:black; font-size:14px; font-weight:bold\">Sex:</p>\n",
    "        </td>\n",
    "        <td style=\"text-align:left\"><p style=\"color:black; font-size:14px\">Geschlecht</p>\n",
    "        </td>\n",
    "    </tr>\n",
    "    <tr>\n",
    "        <td style=\"text-align:left\"><p style=\"color:black; font-size:14px; font-weight:bold\">Age:</p>\n",
    "        </td>\n",
    "        <td style=\"text-align:left\"><p style=\"color:black; font-size:14px\">Alter</p>\n",
    "        </td>\n",
    "    </tr>\n",
    "    <tr>\n",
    "        <td style=\"text-align:left\"><p style=\"color:black; font-size:14px; font-weight:bold\">Siblings_SpousesAboard:</p>\n",
    "        </td>\n",
    "        <td style=\"text-align:left\"><p style=\"color:black; font-size:14px\">Anzahl der mitreisenden Geschwister und Ehepartner</p>\n",
    "        </td>\n",
    "    </tr>\n",
    "    <tr>\n",
    "        <td style=\"text-align:left\"><p style=\"color:black; font-size:14px; font-weight:bold\">Parents_ChildrenAboard:</p>\n",
    "        </td>\n",
    "        <td style=\"text-align:left\"><p style=\"color:black; font-size:14px\">Anzahl der mitreisenden Eltern und Kinder</p>\n",
    "        </td>\n",
    "    </tr>\n",
    "    <tr>\n",
    "        <td style=\"text-align:left\"><p style=\"color:black; font-size:14px; font-weight:bold\">Fare:</p>\n",
    "        </td>\n",
    "        <td style=\"text-align:left\"><p style=\"color:black; font-size:14px\">Bezahlter Fahrscheinpreis in Pound sterling</p>\n",
    "        </td>\n",
    "    </tr>\n",
    "    </table>\n",
    "    \n",
    "Lesen Sie anschließend die Testdaten aus \"titanic_test.csv\" im Ordner \"Data\" ein. Die Daten haben das gleiche Format, allerdings fehlt die Spalte \"Survived\", da diese ja vorhergesagt werden soll. "
   ]
  },
  {
   "cell_type": "code",
   "execution_count": 1,
   "metadata": {},
   "outputs": [
    {
     "data": {
      "text/html": [
       "<div>\n",
       "<style scoped>\n",
       "    .dataframe tbody tr th:only-of-type {\n",
       "        vertical-align: middle;\n",
       "    }\n",
       "\n",
       "    .dataframe tbody tr th {\n",
       "        vertical-align: top;\n",
       "    }\n",
       "\n",
       "    .dataframe thead th {\n",
       "        text-align: right;\n",
       "    }\n",
       "</style>\n",
       "<table border=\"1\" class=\"dataframe\">\n",
       "  <thead>\n",
       "    <tr style=\"text-align: right;\">\n",
       "      <th></th>\n",
       "      <th>Survived</th>\n",
       "      <th>Pclass</th>\n",
       "      <th>Name</th>\n",
       "      <th>Sex</th>\n",
       "      <th>Age</th>\n",
       "      <th>Siblings_SpousesAboard</th>\n",
       "      <th>Parents_ChildrenAboard</th>\n",
       "      <th>Fare</th>\n",
       "    </tr>\n",
       "  </thead>\n",
       "  <tbody>\n",
       "    <tr>\n",
       "      <th>0</th>\n",
       "      <td>0</td>\n",
       "      <td>3</td>\n",
       "      <td>Mr. Owen Harris Braund</td>\n",
       "      <td>male</td>\n",
       "      <td>22.0</td>\n",
       "      <td>1</td>\n",
       "      <td>0</td>\n",
       "      <td>7.2500</td>\n",
       "    </tr>\n",
       "    <tr>\n",
       "      <th>1</th>\n",
       "      <td>1</td>\n",
       "      <td>1</td>\n",
       "      <td>Mrs. John Bradley (Florence Briggs Thayer) Cum...</td>\n",
       "      <td>female</td>\n",
       "      <td>38.0</td>\n",
       "      <td>1</td>\n",
       "      <td>0</td>\n",
       "      <td>71.2833</td>\n",
       "    </tr>\n",
       "    <tr>\n",
       "      <th>2</th>\n",
       "      <td>1</td>\n",
       "      <td>3</td>\n",
       "      <td>Miss. Laina Heikkinen</td>\n",
       "      <td>female</td>\n",
       "      <td>26.0</td>\n",
       "      <td>0</td>\n",
       "      <td>0</td>\n",
       "      <td>7.9250</td>\n",
       "    </tr>\n",
       "    <tr>\n",
       "      <th>3</th>\n",
       "      <td>1</td>\n",
       "      <td>1</td>\n",
       "      <td>Mrs. Jacques Heath (Lily May Peel) Futrelle</td>\n",
       "      <td>female</td>\n",
       "      <td>35.0</td>\n",
       "      <td>1</td>\n",
       "      <td>0</td>\n",
       "      <td>53.1000</td>\n",
       "    </tr>\n",
       "    <tr>\n",
       "      <th>4</th>\n",
       "      <td>0</td>\n",
       "      <td>3</td>\n",
       "      <td>Mr. William Henry Allen</td>\n",
       "      <td>male</td>\n",
       "      <td>35.0</td>\n",
       "      <td>0</td>\n",
       "      <td>0</td>\n",
       "      <td>8.0500</td>\n",
       "    </tr>\n",
       "  </tbody>\n",
       "</table>\n",
       "</div>"
      ],
      "text/plain": [
       "   Survived  Pclass                                               Name  \\\n",
       "0         0       3                             Mr. Owen Harris Braund   \n",
       "1         1       1  Mrs. John Bradley (Florence Briggs Thayer) Cum...   \n",
       "2         1       3                              Miss. Laina Heikkinen   \n",
       "3         1       1        Mrs. Jacques Heath (Lily May Peel) Futrelle   \n",
       "4         0       3                            Mr. William Henry Allen   \n",
       "\n",
       "      Sex   Age  Siblings_SpousesAboard  Parents_ChildrenAboard     Fare  \n",
       "0    male  22.0                       1                       0   7.2500  \n",
       "1  female  38.0                       1                       0  71.2833  \n",
       "2  female  26.0                       0                       0   7.9250  \n",
       "3  female  35.0                       1                       0  53.1000  \n",
       "4    male  35.0                       0                       0   8.0500  "
      ]
     },
     "execution_count": 1,
     "metadata": {},
     "output_type": "execute_result"
    }
   ],
   "source": [
    "import pandas as pd\n",
    "\n",
    "# Daten importieren\n",
    "data = pd.read_csv(\"Data/titanic.csv\")\n",
    "data.head()\n",
    "# data_test.head()"
   ]
  },
  {
   "cell_type": "markdown",
   "metadata": {
    "editable": false
   },
   "source": [
    "<a id='analyze_data'></a><div><img src=\"Images/IMG-magnifying-glass.png\" style=\"float:left\"> <h2 style=\"position: relative; top: 6px; left: 10px\">2. Daten analysieren</h2>\n",
    "<p style=\"position: relative; top: 10px\">\n",
    "Durchstöbern Sie die Daten. Welche Spalten sind numerisch? Wie ist die Werteverteilung in den einzelnen Spalten? Wo fehlen Werte?\n",
    "</p>"
   ]
  },
  {
   "cell_type": "code",
   "execution_count": 5,
   "metadata": {},
   "outputs": [
    {
     "data": {
      "text/plain": [
       "Survived                    int64\n",
       "Pclass                      int64\n",
       "Name                      float32\n",
       "Sex                       float32\n",
       "Age                       float64\n",
       "Siblings_SpousesAboard      int64\n",
       "Parents_ChildrenAboard      int64\n",
       "Fare                      float64\n",
       "dtype: object"
      ]
     },
     "execution_count": 5,
     "metadata": {},
     "output_type": "execute_result"
    }
   ],
   "source": [
    "# Daten explorieren\n",
    "#\n",
    "data.dtypes\n",
    "\n",
    "# object = data.loc[: , [data.dtypes[0]=='object', \n",
    "#                        data.dtypes[1]=='object', \n",
    "#                        data.dtypes[2]=='object', \n",
    "#                        data.dtypes[3]=='object',\n",
    "#                        data.dtypes[4]=='object',\n",
    "#                        data.dtypes[5]=='object',\n",
    "#                        data.dtypes[6]=='object',]] \n",
    "# list(object.columns)\n",
    "# data.isna().any()\n"
   ]
  },
  {
   "cell_type": "markdown",
   "metadata": {
    "editable": false
   },
   "source": [
    "<a id='clean_data'></a><div><img src=\"Images/IMG-broom.png\" style=\"float:left\"> <h2 style=\"position: relative; top: 6px; left:10px\">3. Daten säubern</h2>\n",
    "<p style=\"position: relative; top: 10px\">\n",
    "Konvertieren Sie alle nicht-numerischen Daten. Füllen Sie fehlende Werte auf. Sie wissen ja inzwischen, wie das geht. \n",
    "\n",
    "Sie müssen auch nicht alle Merkmale oder Beobachtungen behalten. Oder vielleicht kann man ja auch ganz neue Merkmale aus den vorhandenen ableiten? Welche hinter den Merkmalen liegenden Zusammenhänge könnten vielleicht einen Einfluss auf die Überlebenschance haben? Seien Sie ruhig kreativ!   \n",
    "</p>"
   ]
  },
  {
   "cell_type": "code",
   "execution_count": 3,
   "metadata": {},
   "outputs": [
    {
     "name": "stdout",
     "output_type": "stream",
     "text": [
      "StandardScaler()\n"
     ]
    }
   ],
   "source": [
    "# Importieren Sie aus dem sklearn-Modul preprocessing das Objekt StandardScaler\n",
    "from sklearn.preprocessing import StandardScaler\n",
    "# Daten säubern\n",
    "Sex = {'female':'1','male':'0'}\n",
    "data['Sex'] = data['Sex'].map(Sex, na_action = 'ignore')\n",
    "data['Sex'] = data['Sex'].astype('float32')\n",
    "categorical_name = data['Name'].astype('category')\n",
    "numerical_categorical_column = categorical_name.cat.codes\n",
    "\n",
    "# print(numerical_categorical_column)\n",
    "data['Name']= numerical_categorical_column\n",
    "data['Name'] = data['Name'].astype('float32')\n",
    "# print(data['Name'])\n",
    "# print(data_test['Name'])\n",
    "\n",
    "\n",
    "X_train = data.drop(columns = ['Survived'])\n",
    "y_train =data['Survived']\n",
    "\n",
    "\n",
    "# Instanziieren Sie ein Objekt StandardScaler()\n",
    "stdScaler = StandardScaler()\n",
    "# Berechnen Sie die Standardisierungsparametr auf dem Trainingsset (!) X_train mit Hilfe der Funktion \"fit()\"\n",
    "print(stdScaler.fit(X_train))\n",
    "# Wenden Sie die **selbe** Standardisierung mit Hilfe der Methode transform() auf die Trainings- und Testdaten an\n",
    "X_train = stdScaler.transform(X_train)"
   ]
  },
  {
   "cell_type": "code",
   "execution_count": 6,
   "metadata": {},
   "outputs": [
    {
     "name": "stdout",
     "output_type": "stream",
     "text": [
      "     Survived  Pclass   Name  Sex   Age  Siblings_SpousesAboard  \\\n",
      "0           0       3  548.0  0.0  22.0                       1   \n",
      "1           1       1  742.0  1.0  38.0                       1   \n",
      "2           1       3  154.0  1.0  26.0                       0   \n",
      "3           1       1  736.0  1.0  35.0                       1   \n",
      "4           0       3  667.0  0.0  35.0                       0   \n",
      "..        ...     ...    ...  ...   ...                     ...   \n",
      "794         0       2  348.0  0.0  28.0                       0   \n",
      "795         0       3  391.0  0.0  25.0                       0   \n",
      "796         0       3  784.0  1.0  39.0                       0   \n",
      "797         0       3   88.0  1.0   7.0                       1   \n",
      "798         0       3  552.0  0.0  32.0                       0   \n",
      "\n",
      "     Parents_ChildrenAboard     Fare  \n",
      "0                         0   7.2500  \n",
      "1                         0  71.2833  \n",
      "2                         0   7.9250  \n",
      "3                         0  53.1000  \n",
      "4                         0   8.0500  \n",
      "..                      ...      ...  \n",
      "794                       0  10.5000  \n",
      "795                       0   7.0500  \n",
      "796                       5  29.1250  \n",
      "797                       2  23.4500  \n",
      "798                       0   7.7500  \n",
      "\n",
      "[799 rows x 8 columns]\n"
     ]
    },
    {
     "data": {
      "text/plain": [
       "Survived                    int64\n",
       "Pclass                      int64\n",
       "Name                      float32\n",
       "Sex                       float32\n",
       "Age                       float64\n",
       "Siblings_SpousesAboard      int64\n",
       "Parents_ChildrenAboard      int64\n",
       "Fare                      float64\n",
       "dtype: object"
      ]
     },
     "execution_count": 6,
     "metadata": {},
     "output_type": "execute_result"
    }
   ],
   "source": [
    "print(data)\n",
    "data.dtypes"
   ]
  },
  {
   "cell_type": "markdown",
   "metadata": {
    "editable": false
   },
   "source": [
    "<a id='build_model'></a><div><img src=\"Images/IMG-gears.png\" style=\"float:left\"> <h2 style=\"position: relative; top: 6px; left:10px\">4. Modellauswahl</h2>\n",
    "<p style=\"position: relative; top: 10px\">\n",
    "Trainieren Sie einen Klassifikator zur Vorhersage des Überlebens eines Passagiers! Denken Sie unabhängig von der Art des gewählten Modells daran, alle Hyperparameter zu optimieren. \n",
    "</p>"
   ]
  },
  {
   "cell_type": "code",
   "execution_count": 7,
   "metadata": {},
   "outputs": [
    {
     "name": "stdout",
     "output_type": "stream",
     "text": [
      "Das Label 1 kommt nur 308 Mal in den Trainingsdaten vor!\n",
      "Standard KNN - Training: 85.23 % \n",
      "Support Vector Machine - Training: 83.35 % \n",
      "Fitting 307 folds for each of 396 candidates, totalling 121572 fits\n",
      "Standard KNN - Training: 100.00 % \n",
      "Fitting 307 folds for each of 16 candidates, totalling 4912 fits\n",
      "Support Vector Machine - Training: 83.35 % \n"
     ]
    },
    {
     "data": {
      "image/png": "[encoded data removed]",
      "text/plain": [
       "<Figure size 432x288 with 1 Axes>"
      ]
     },
     "metadata": {
      "needs_background": "light"
     },
     "output_type": "display_data"
    }
   ],
   "source": [
    "from matplotlib import pyplot as plt\n",
    "import numpy as np\n",
    "from sklearn.neighbors import KNeighborsClassifier\n",
    "from sklearn.model_selection import GridSearchCV\n",
    "\n",
    "# Dies ist ein sog. \"Magic-Kommando\", das die Darstellung der Plots direkt im Notebook ermöglicht. \n",
    "# Wenn Sie dieses vergessen, tauchen die Plots nicht auf!\n",
    "%matplotlib inline\n",
    "\n",
    "# Histogramm-Darstellung der bekannten Label im Training\n",
    "plt.hist(y_train)\n",
    "plt.xlabel(\"Survived\")\n",
    "plt.ylabel(\"Häufigkeit\")\n",
    "\n",
    "# Bestimme die Häufigkeiten jedes vorkommenden Wertes in dem Array y_train\n",
    "labels, counts = np.unique(y_train, return_counts=True)\n",
    "# Finde die kleinste Häufigkeit\n",
    "min_counts = np.min(counts)\n",
    "# Finde das Label mit der kleinsten Häufigkeit\n",
    "rarest_label = labels[counts == min_counts]\n",
    "# Ausgabe des seltensten Labels und der entsprechenden Häufigkeit\n",
    "print(\"Das Label {} kommt nur {} Mal in den Trainingsdaten vor!\".format(*rarest_label, min_counts))\n",
    "\n",
    "\n",
    "#################################################################################      \n",
    "################################# Modell trainieren##############################\n",
    "#################################################################################      \n",
    "\n",
    "###################################################\n",
    "################# KNN-MODEL #######################\n",
    "###################################################\n",
    "# Instanziieren Sie ein Objekt vom Type KNeighborsClassifier mit den Standardeinstellungen für alle Parameter\n",
    "knn_model = KNeighborsClassifier()\n",
    "# Trainieren (\"Fitten\") Sie das Modell\n",
    "knn_model.fit(X_train, y_train)\n",
    "# Trainingsgenauigkeit (in Prozent)\n",
    "train_score_knn = knn_model.score(X_train, y_train)*100\n",
    "# # Ausgabe der Performancemaße\n",
    "print(\"Standard KNN - Training: {:.2f} % \".format(train_score_knn))\n",
    "      \n",
    "###################################################\n",
    "################# SVM-MODEL #######################\n",
    "###################################################     \n",
    "# Import des Objekts SVC aus dem Modul svm im Paket sklearn\n",
    "from sklearn.svm import SVC\n",
    "\n",
    "# Instanziieren eines Objekts\n",
    "svm_model = SVC(C=1)\n",
    "# Trainieren Sie das Modell\n",
    "svm_model.fit(X_train, y_train)\n",
    "# Berechnen Sie den Trainings- und Testscore in Prozent\n",
    "train_score_svm = svm_model.score(X_train, y_train)*100\n",
    "\n",
    "# Ausgabe der Performance\n",
    "print(\"Support Vector Machine - Training: {:.2f} % \".format(train_score_svm))\n",
    "\n",
    "\n",
    "from sklearn.neural_network import MLPClassifier\n",
    "\n",
    "\n",
    "\n",
    "#####################################################################################      \n",
    "##### Kreuzvalidierung zur Optimierung der Hyperparameter nicht vergessen!###########\n",
    "#####################################################################################      \n",
    "\n",
    "###################################################\n",
    "################# KNN-MODEL #######################\n",
    "###################################################\n",
    "# Auswahl der zu testenden Hyperparameter (alle nicht spezifizierten bleiben auf dem Standardwert)\n",
    "param_grid_knn = [\n",
    "    {'n_neighbors': np.arange(1, 100, 1),  # Anzahl der Nachbarn; \"arange\" ist eine Numpy-Funktion zur Erzeugung einer Spanne\n",
    "     'weights': ['uniform', 'distance'], # Gewichtung der Nachbarn in Entscheidungsfindung\n",
    "     'p': [1, 2]},                       # Exponent der Abstandsfunktion (1: Manhattan; 2: Euklidisch)\n",
    "]\n",
    "\n",
    "# Instanziieren des Objekts \"GridSearchCV\"\n",
    "knn_model = GridSearchCV(KNeighborsClassifier(), # Klassifikator, der benutzt werden soll\n",
    "                         param_grid_knn,         # Hyperparametergitter\n",
    "                         cv=307,                   # Anzahl der Folds für Kreuzvalidierung\n",
    "                         verbose=10,             # Menge des Output während der Suche (größere Zahl -> mehr Info)\n",
    "                         n_jobs=-1               # Anzahl der parallel genutzen CPUs; -1: alle verfügbaren CPUs nutzen\n",
    "                        )\n",
    "\n",
    "\n",
    "###################################################\n",
    "################# SVM-MODEL #######################\n",
    "###################################################     \n",
    "# Import des Objekts SVC aus dem Modul svm im Paket sklearn\n",
    "# Parametergitter aufstellen\n",
    "param_grid_svm = [\n",
    "    {'C': np.logspace(-5, 2, 8), # Die Numpy-Funktion \"logspace\" liefert eine logarithmische Zahlenreihe (z. B. [0.01, 0.1, 1, 10])\n",
    "     'kernel': ['linear', 'rbf']}\n",
    "]\n",
    "\n",
    "# Gittersuche aufsetzen\n",
    "svm_model = GridSearchCV(SVC(), # Klassifikator, der benutzt werden soll\n",
    "                         param_grid_svm,         # Hyperparametergitter\n",
    "                         cv=307,                   # Anzahl der Folds für Kreuzvalidierung\n",
    "                         verbose=10,             # Menge des Output während der Suche (größere Zahl -> mehr Info)\n",
    "                         n_jobs=-1               # Anzahl der parallel genutzen CPUs; -1: alle verfügbaren CPUs nutzen\n",
    "                        )\n",
    "\n",
    "# ###################################################\n",
    "# ################# MLP-MODEL #######################\n",
    "# ###################################################   \n",
    "# from sklearn.neural_network import MLPClassifier\n",
    "\n",
    "\n",
    "# # Neuronale Netze haben immer viele Hyperparameter. Hier soll nur eine kleine Auswahl untersucht werden\n",
    "# param_grid_mlp = [\n",
    "#     {\n",
    "#         'hidden_layer_sizes': [(100, 50), (100, 100, 50), (100, 100, 100, 50)],\n",
    "#         'alpha': np.logspace(-5, 1, 7),\n",
    "#         'activation': ['tanh', 'relu'],\n",
    "#         'early_stopping': [True, False],\n",
    "#         'learning_rate': ['adaptive'],\n",
    "#     }    \n",
    "# ]\n",
    "\n",
    "# # Gittersuche aufsetzen\n",
    "# mlp_model = GridSearchCV(MLPClassifier(), # Klassifikator, der benutzt werden soll\n",
    "#                          param_grid_mlp,         # Hyperparametergitter\n",
    "#                          cv=307,                   # Anzahl der Folds für Kreuzvalidierung\n",
    "#                          verbose=10,             # Menge des Output während der Suche (größere Zahl -> mehr Info)\n",
    "#                          n_jobs=-1               # Anzahl der parallel genutzen CPUs; -1: alle verfügbaren CPUs nutzen\n",
    "#                         )\n",
    "\n",
    "###################################################################################################\n",
    "# Am Ende Modell mit optimalen Hyperparametern auf allen gelabelte Daten trainieren!###############\n",
    "##################################################################################################\n",
    "\n",
    "# ###################################################\n",
    "# ################# KNN-MODEL #######################\n",
    "# ###################################################\n",
    "knn_model.fit(X_train, y_train)\n",
    "train_score_knn = knn_model.score(X_train, y_train)*100\n",
    "print(\"Standard KNN - Training: {:.2f} % \".format(train_score_knn))\n",
    "\n",
    "# ###################################################\n",
    "# ################# SVM-MODEL #######################\n",
    "# ###################################################    \n",
    "svm_model.fit(X_train, y_train)\n",
    "train_score_svm = svm_model.score(X_train, y_train)*100\n",
    "print(\"Support Vector Machine - Training: {:.2f} % \".format(train_score_svm))\n",
    "\n",
    "# ###################################################\n",
    "# ################# MLP-MODEL #######################\n",
    "# ###################################################   \n",
    "# # Gittersuche durchführen\n",
    "# mlp_model.fit(X_train, y_train)\n",
    "# train_score_mlp = mlp_model.score(X_train, y_train)*100\n",
    "# print(\"mlp - Training: {:.2f} %\".format(train_score_mlp))"
   ]
  },
  {
   "cell_type": "markdown",
   "metadata": {
    "editable": false
   },
   "source": [
    "<a id='make_predictions'></a><div><img src=\"Images/IMG-alert.png\" style=\"float:left\"> <h2 style=\"position: relative; top: 6px; left:10px\">5. Vorhersagen treffen</h2>\n",
    "<p style=\"position: relative; top: 10px\">\n",
    "Verwenden Sie Ihr trainiertes Modell, um für alle ungelabelten Beobachtungen aus \"titanic_test.csv\" eine Vorhersage des Überlebens zu treffen!\n",
    "\n",
    "Denken Sie daran, die Daten vorher auf die <strong>exakt gleiche Weise</strong> aufzubereiten, wie Sie es mit den Trainingsdaten getan haben.\n",
    "</p>"
   ]
  },
  {
   "cell_type": "code",
   "execution_count": 8,
   "metadata": {},
   "outputs": [
    {
     "name": "stdout",
     "output_type": "stream",
     "text": [
      "StandardScaler()\n",
      "0.9987484355444305\n"
     ]
    }
   ],
   "source": [
    "# Vorverabeitung der Testdaten (exakt wie Vorverarbeitung von Trainingsdaten!)\n",
    "data_test = pd.read_csv(\"Data/titanic_test.csv\")\n",
    "# Importieren Sie aus dem sklearn-Modul preprocessing das Objekt StandardScaler\n",
    "from sklearn.preprocessing import StandardScaler\n",
    "# Daten säubern\n",
    "Sex = {'female':'1','male':'0'}\n",
    "data_test['Sex'] = data_test['Sex'].map(Sex, na_action = 'ignore')\n",
    "data_test['Sex'] = data_test['Sex'].astype('float32')\n",
    "categorical_name = data_test['Name'].astype('category')\n",
    "numerical_categorical_column = categorical_name.cat.codes\n",
    "\n",
    "# print(numerical_categorical_column)\n",
    "data_test['Name']= numerical_categorical_column\n",
    "data_test['Name'] = data_test['Name'].astype('float32')\n",
    "# print(data_test['Name'])\n",
    "\n",
    "X_test = data_test\n",
    "\n",
    "# Instanziieren Sie ein Objekt StandardScaler()\n",
    "stdScaler = StandardScaler()\n",
    "# Berechnen Sie die Standardisierungsparametr auf dem Trainingsset (!) X_train mit Hilfe der Funktion \"fit()\"\n",
    "print(stdScaler.fit(X_test))\n",
    "# Wenden Sie die **selbe** Standardisierung mit Hilfe der Methode transform() auf die Trainings- und Testdaten an\n",
    "X_test = stdScaler.transform(X_test)\n",
    "\n",
    "# Vorhersagen treffen , \n",
    "y_predicted =  knn_model.predict(X_test)\n",
    "\n",
    "\n",
    "y_predicted_train = knn_model.predict(X_train)\n",
    "cnt=0\n",
    "for i in range(1,len(y_predicted_train)):\n",
    "    if(y_predicted_train[i] == data['Survived'].loc()[i]):\n",
    "        cnt= cnt + 1;\n",
    "    \n",
    "print(cnt/len(y_predicted_train))\n",
    "\n"
   ]
  },
  {
   "cell_type": "markdown",
   "metadata": {
    "editable": false
   },
   "source": [
    "<a id='save_predictions'></a><div><img src=\"Images/IMG-csv-out.png\" style=\"float:left\"> <h2 style=\"position: relative; top: 6px; left:10px\">6. Vorhersagen speichern</h2>\n",
    "<p style=\"position: relative; top: 10px\">\n",
    "Speichern Sie die Vorhersagen in einer CSV-Datei ab. Die Datei soll nur eine Spalte haben. In jeder Zeile soll genau eine Zahl stehen: Eine 0 steht für \"Passagier hat nicht überlebt\" und eine 1 steht für \"Passagier hat überlebt\". Die Reihenfolge der Vorhersagen muss der Reihenfolge der Beobachtungen in \"titanic_test.csv\" entsprechen.\n",
    "</p>"
   ]
  },
  {
   "cell_type": "code",
   "execution_count": null,
   "metadata": {},
   "outputs": [],
   "source": [
    "# Vorhersagen speichern\n",
    "data_test['Survived'] = y_predicted\n",
    "print(data_test)\n",
    "data_test.dtypes\n",
    "data_test['Survived'].to_csv('Data/titanic_test_survived.csv')"
   ]
  },
  {
   "cell_type": "markdown",
   "metadata": {
    "editable": false
   },
   "source": [
    "Wenn Sie möchten, können Sie die CSV-Datei mit Ihren Vorhersagen an <a href=\"mailto:simon.stone@tu-dresden.de?Subject=Vorhersagen%20zu%20Jupyter%20Notebook%20Titanic\" target=\"_top\">Simon Stone</a> schicken und so an einem kleinen Wettbewerb teilnehmen: Wir berechnen die Klassifikationsgenauigkeit Ihres Modells auf den ungesehenen Daten und stellen so ein Kurs-internes Ranking auf, das wir am Ende der Vorlesungszeit im Kurs bekannt geben werden. Optional können Sie uns auch ein Pseudonym mitteilen, unter dem Sie auf der Liste geführt werden, wenn Sie nicht namentlich dort erscheinen wollen. Viel Erfolg!"
   ]
  },
  {
   "cell_type": "markdown",
   "metadata": {
    "editable": false
   },
   "source": [
    "<img src=\"Images/IMG-Titanic-Footer.jpg\">"
   ]
  },
  {
   "cell_type": "markdown",
   "metadata": {
    "editable": false
   },
   "source": [
    "---\n",
    "<div>Passenger data from <a href=\"https://www.encyclopedia-titanica.org/\">Encyclopedia Titanica</a></div>\n",
    "<div>Header background swiped from <a href=\"https://titanicsound.wordpress.com/\">Titanic Movie blog</a></div>\n",
    "<div>Icons made by <a href=\"https://www.flaticon.com/authors/swifticons\" title=\"Swifticons\">Swifticons</a> from <a href=\"https://www.flaticon.com/\" title=\"Flaticon\">www.flaticon.com</a></div>\n",
    "<div>Footer image by Karl Beutel, licensed under <a href=\"https://creativecommons.org/licenses/by-sa/3.0/deed.en\">Creative Commons Attribution-Share Alike 3.0 Unported</a></div>\n",
    "<div>Notebook erstellt von <a href=\"mailto:simon.stone@tu-dresden.de?Subject=Frage%20zu%20Jupyter%20Notebook%20Titanic\" target=\"_top\">Simon Stone</a></div>"
   ]
  }
 ],
 "metadata": {
  "celltoolbar": "Edit Metadata",
  "kernelspec": {
   "display_name": "Python 3 (ipykernel)",
   "language": "python",
   "name": "python3"
  },
  "language_info": {
   "codemirror_mode": {
    "name": "ipython",
    "version": 3
   },
   "file_extension": ".py",
   "mimetype": "text/x-python",
   "name": "python",
   "nbconvert_exporter": "python",
   "pygments_lexer": "ipython3",
   "version": "3.10.4"
  }
 },
 "nbformat": 4,
 "nbformat_minor": 2
}
